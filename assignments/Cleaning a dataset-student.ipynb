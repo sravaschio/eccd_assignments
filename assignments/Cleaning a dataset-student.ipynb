{
  "cells": [
    {
      "cell_type": "markdown",
      "id": "a1c18e88",
      "metadata": {
        "id": "a1c18e88"
      },
      "source": [
        "# Objective\n",
        "\n",
        "The objective of this notebook is get hands-on experience on cleaning a \"dirty\" dataset.\n",
        "Often, datasets are created from \"free-text\" fields. In free-text fields, data validation is not enforced and as a result, many conventions co-exist within the same column of data.\n",
        "Dirty data can also ocurr when collection information from different sources. If these sources use different conventions to represent such data, additional efforts are required to homogenize it at a later stage."
      ]
    },
    {
      "cell_type": "markdown",
      "id": "5ef95451",
      "metadata": {
        "id": "5ef95451"
      },
      "source": [
        "## Setup"
      ]
    },
    {
      "cell_type": "code",
      "execution_count": 1,
      "id": "264b3914",
      "metadata": {
        "id": "264b3914",
        "outputId": "6827062d-27ee-49a4-c626-c5790d3e7521",
        "colab": {
          "base_uri": "https://localhost:8080/"
        }
      },
      "outputs": [
        {
          "output_type": "stream",
          "name": "stdout",
          "text": [
            "\u001b[2K     \u001b[90m━━━━━━━━━━━━━━━━━━━━━━━━━━━━━━━━━━━━━━━━\u001b[0m \u001b[32m61.2/61.2 MB\u001b[0m \u001b[31m8.6 MB/s\u001b[0m eta \u001b[36m0:00:00\u001b[0m\n",
            "\u001b[2K     \u001b[90m━━━━━━━━━━━━━━━━━━━━━━━━━━━━━━━━━━━━━━━━\u001b[0m \u001b[32m223.9/223.9 kB\u001b[0m \u001b[31m11.9 MB/s\u001b[0m eta \u001b[36m0:00:00\u001b[0m\n",
            "\u001b[?25h"
          ]
        }
      ],
      "source": [
        "!pip install -q eccd_datasets pygradus"
      ]
    },
    {
      "cell_type": "code",
      "execution_count": 2,
      "id": "9b4c5adb",
      "metadata": {
        "id": "9b4c5adb"
      },
      "outputs": [],
      "source": [
        "STUDENT_NAME = \"sebastian-ravaschio\"\n",
        "COURSE_NAME = \"eccd-oct23\"\n",
        "EXERCISE_NAME = \"cleaning-a-dataset\""
      ]
    },
    {
      "cell_type": "code",
      "execution_count": 3,
      "id": "82e00b1d",
      "metadata": {
        "id": "82e00b1d"
      },
      "outputs": [],
      "source": [
        "import pandas as pd\n",
        "import numpy as np\n",
        "from eccd_datasets import load_lingerie\n",
        "from pygradus import create_exercise, check_solution"
      ]
    },
    {
      "cell_type": "code",
      "execution_count": 4,
      "id": "4ed79a57",
      "metadata": {
        "id": "4ed79a57"
      },
      "outputs": [],
      "source": [
        "datasets = load_lingerie()"
      ]
    },
    {
      "cell_type": "code",
      "execution_count": 5,
      "id": "9b24ae3a",
      "metadata": {
        "id": "9b24ae3a",
        "outputId": "ee22e12a-587f-471f-dd17-9902a6f35360",
        "colab": {
          "base_uri": "https://localhost:8080/"
        }
      },
      "outputs": [
        {
          "output_type": "execute_result",
          "data": {
            "text/plain": [
              "dict_keys(['ae_com', 'amazon_com', 'btemptd_com', 'calvinklein_com', 'hankypanky_com', 'macys_com', 'shop_nordstrom_com', 'us_topshop_com', 'victoriassecret_com'])"
            ]
          },
          "metadata": {},
          "execution_count": 5
        }
      ],
      "source": [
        "datasets.keys()"
      ]
    },
    {
      "cell_type": "markdown",
      "id": "b108d005",
      "metadata": {
        "id": "b108d005"
      },
      "source": [
        "## The different datasets on their own"
      ]
    },
    {
      "cell_type": "code",
      "execution_count": 6,
      "id": "b34add3e",
      "metadata": {
        "id": "b34add3e",
        "outputId": "22837aa3-ed11-4692-f6eb-24dae41f1758",
        "colab": {
          "base_uri": "https://localhost:8080/",
          "height": 293
        }
      },
      "outputs": [
        {
          "output_type": "execute_result",
          "data": {
            "text/plain": [
              "                       product_name        mrp      price  \\\n",
              "0  Aerie Everyday Loves Lace Cheeky  12.50 USD  12.50 USD   \n",
              "1  Aerie Everyday Loves Lace Cheeky  12.50 USD  12.50 USD   \n",
              "2  Aerie Everyday Loves Lace Cheeky  12.50 USD  12.50 USD   \n",
              "3  Aerie Everyday Loves Lace Cheeky  12.50 USD  12.50 USD   \n",
              "4  Aerie Everyday Loves Lace Cheeky  12.50 USD  12.50 USD   \n",
              "\n",
              "                                             pdp_url brand_name  \\\n",
              "0  https://www.ae.com/aerie-everyday-loves-lace-c...      AERIE   \n",
              "1  https://www.ae.com/aerie-everyday-loves-lace-c...      AERIE   \n",
              "2  https://www.ae.com/aerie-everyday-loves-lace-c...      AERIE   \n",
              "3  https://www.ae.com/aerie-everyday-loves-lace-c...      AERIE   \n",
              "4  https://www.ae.com/aerie-everyday-loves-lace-c...      AERIE   \n",
              "\n",
              "  product_category retailer  \\\n",
              "0         Cheekies    Ae US   \n",
              "1         Cheekies    Ae US   \n",
              "2         Cheekies    Ae US   \n",
              "3         Cheekies    Ae US   \n",
              "4         Cheekies    Ae US   \n",
              "\n",
              "                                         description  rating  review_count  \\\n",
              "0  Introducing Everyday Loves™: Made with love. E...     5.0           8.0   \n",
              "1  Introducing Everyday Loves™: Made with love. E...     5.0           8.0   \n",
              "2  Introducing Everyday Loves™: Made with love. E...     5.0           8.0   \n",
              "3  Introducing Everyday Loves™: Made with love. E...     5.0           8.0   \n",
              "4  Introducing Everyday Loves™: Made with love. E...     5.0           8.0   \n",
              "\n",
              "                                    style_attributes  \\\n",
              "0  [\"Soft lace with the right amount of stretch\",...   \n",
              "1  [\"Soft lace with the right amount of stretch\",...   \n",
              "2  [\"Soft lace with the right amount of stretch\",...   \n",
              "3  [\"Soft lace with the right amount of stretch\",...   \n",
              "4  [\"Soft lace with the right amount of stretch\",...   \n",
              "\n",
              "                          total_sizes                      available_size  \\\n",
              "0  [\"XS\", \"S\", \"M\", \"L\", \"XL\", \"XXL\"]  [\"XS\", \"S\", \"M\", \"L\", \"XL\", \"XXL\"]   \n",
              "1  [\"XS\", \"S\", \"M\", \"L\", \"XL\", \"XXL\"]  [\"XS\", \"S\", \"M\", \"L\", \"XL\", \"XXL\"]   \n",
              "2  [\"XS\", \"S\", \"M\", \"L\", \"XL\", \"XXL\"]  [\"XS\", \"S\", \"M\", \"L\", \"XL\", \"XXL\"]   \n",
              "3  [\"XS\", \"S\", \"M\", \"L\", \"XL\", \"XXL\"]  [\"XS\", \"S\", \"M\", \"L\", \"XL\", \"XXL\"]   \n",
              "4  [\"XS\", \"S\", \"M\", \"L\", \"XL\", \"XXL\"]  [\"XS\", \"S\", \"M\", \"L\", \"XL\", \"XXL\"]   \n",
              "\n",
              "          color  \n",
              "0  Rugged Green  \n",
              "1  Natural Nude  \n",
              "2    True Black  \n",
              "3         White  \n",
              "4    Royal Navy  "
            ],
            "text/html": [
              "\n",
              "  <div id=\"df-1e601f44-3af2-48b9-97a0-56a680dbf886\" class=\"colab-df-container\">\n",
              "    <div>\n",
              "<style scoped>\n",
              "    .dataframe tbody tr th:only-of-type {\n",
              "        vertical-align: middle;\n",
              "    }\n",
              "\n",
              "    .dataframe tbody tr th {\n",
              "        vertical-align: top;\n",
              "    }\n",
              "\n",
              "    .dataframe thead th {\n",
              "        text-align: right;\n",
              "    }\n",
              "</style>\n",
              "<table border=\"1\" class=\"dataframe\">\n",
              "  <thead>\n",
              "    <tr style=\"text-align: right;\">\n",
              "      <th></th>\n",
              "      <th>product_name</th>\n",
              "      <th>mrp</th>\n",
              "      <th>price</th>\n",
              "      <th>pdp_url</th>\n",
              "      <th>brand_name</th>\n",
              "      <th>product_category</th>\n",
              "      <th>retailer</th>\n",
              "      <th>description</th>\n",
              "      <th>rating</th>\n",
              "      <th>review_count</th>\n",
              "      <th>style_attributes</th>\n",
              "      <th>total_sizes</th>\n",
              "      <th>available_size</th>\n",
              "      <th>color</th>\n",
              "    </tr>\n",
              "  </thead>\n",
              "  <tbody>\n",
              "    <tr>\n",
              "      <th>0</th>\n",
              "      <td>Aerie Everyday Loves Lace Cheeky</td>\n",
              "      <td>12.50 USD</td>\n",
              "      <td>12.50 USD</td>\n",
              "      <td>https://www.ae.com/aerie-everyday-loves-lace-c...</td>\n",
              "      <td>AERIE</td>\n",
              "      <td>Cheekies</td>\n",
              "      <td>Ae US</td>\n",
              "      <td>Introducing Everyday Loves™: Made with love. E...</td>\n",
              "      <td>5.0</td>\n",
              "      <td>8.0</td>\n",
              "      <td>[\"Soft lace with the right amount of stretch\",...</td>\n",
              "      <td>[\"XS\", \"S\", \"M\", \"L\", \"XL\", \"XXL\"]</td>\n",
              "      <td>[\"XS\", \"S\", \"M\", \"L\", \"XL\", \"XXL\"]</td>\n",
              "      <td>Rugged Green</td>\n",
              "    </tr>\n",
              "    <tr>\n",
              "      <th>1</th>\n",
              "      <td>Aerie Everyday Loves Lace Cheeky</td>\n",
              "      <td>12.50 USD</td>\n",
              "      <td>12.50 USD</td>\n",
              "      <td>https://www.ae.com/aerie-everyday-loves-lace-c...</td>\n",
              "      <td>AERIE</td>\n",
              "      <td>Cheekies</td>\n",
              "      <td>Ae US</td>\n",
              "      <td>Introducing Everyday Loves™: Made with love. E...</td>\n",
              "      <td>5.0</td>\n",
              "      <td>8.0</td>\n",
              "      <td>[\"Soft lace with the right amount of stretch\",...</td>\n",
              "      <td>[\"XS\", \"S\", \"M\", \"L\", \"XL\", \"XXL\"]</td>\n",
              "      <td>[\"XS\", \"S\", \"M\", \"L\", \"XL\", \"XXL\"]</td>\n",
              "      <td>Natural Nude</td>\n",
              "    </tr>\n",
              "    <tr>\n",
              "      <th>2</th>\n",
              "      <td>Aerie Everyday Loves Lace Cheeky</td>\n",
              "      <td>12.50 USD</td>\n",
              "      <td>12.50 USD</td>\n",
              "      <td>https://www.ae.com/aerie-everyday-loves-lace-c...</td>\n",
              "      <td>AERIE</td>\n",
              "      <td>Cheekies</td>\n",
              "      <td>Ae US</td>\n",
              "      <td>Introducing Everyday Loves™: Made with love. E...</td>\n",
              "      <td>5.0</td>\n",
              "      <td>8.0</td>\n",
              "      <td>[\"Soft lace with the right amount of stretch\",...</td>\n",
              "      <td>[\"XS\", \"S\", \"M\", \"L\", \"XL\", \"XXL\"]</td>\n",
              "      <td>[\"XS\", \"S\", \"M\", \"L\", \"XL\", \"XXL\"]</td>\n",
              "      <td>True Black</td>\n",
              "    </tr>\n",
              "    <tr>\n",
              "      <th>3</th>\n",
              "      <td>Aerie Everyday Loves Lace Cheeky</td>\n",
              "      <td>12.50 USD</td>\n",
              "      <td>12.50 USD</td>\n",
              "      <td>https://www.ae.com/aerie-everyday-loves-lace-c...</td>\n",
              "      <td>AERIE</td>\n",
              "      <td>Cheekies</td>\n",
              "      <td>Ae US</td>\n",
              "      <td>Introducing Everyday Loves™: Made with love. E...</td>\n",
              "      <td>5.0</td>\n",
              "      <td>8.0</td>\n",
              "      <td>[\"Soft lace with the right amount of stretch\",...</td>\n",
              "      <td>[\"XS\", \"S\", \"M\", \"L\", \"XL\", \"XXL\"]</td>\n",
              "      <td>[\"XS\", \"S\", \"M\", \"L\", \"XL\", \"XXL\"]</td>\n",
              "      <td>White</td>\n",
              "    </tr>\n",
              "    <tr>\n",
              "      <th>4</th>\n",
              "      <td>Aerie Everyday Loves Lace Cheeky</td>\n",
              "      <td>12.50 USD</td>\n",
              "      <td>12.50 USD</td>\n",
              "      <td>https://www.ae.com/aerie-everyday-loves-lace-c...</td>\n",
              "      <td>AERIE</td>\n",
              "      <td>Cheekies</td>\n",
              "      <td>Ae US</td>\n",
              "      <td>Introducing Everyday Loves™: Made with love. E...</td>\n",
              "      <td>5.0</td>\n",
              "      <td>8.0</td>\n",
              "      <td>[\"Soft lace with the right amount of stretch\",...</td>\n",
              "      <td>[\"XS\", \"S\", \"M\", \"L\", \"XL\", \"XXL\"]</td>\n",
              "      <td>[\"XS\", \"S\", \"M\", \"L\", \"XL\", \"XXL\"]</td>\n",
              "      <td>Royal Navy</td>\n",
              "    </tr>\n",
              "  </tbody>\n",
              "</table>\n",
              "</div>\n",
              "    <div class=\"colab-df-buttons\">\n",
              "\n",
              "  <div class=\"colab-df-container\">\n",
              "    <button class=\"colab-df-convert\" onclick=\"convertToInteractive('df-1e601f44-3af2-48b9-97a0-56a680dbf886')\"\n",
              "            title=\"Convert this dataframe to an interactive table.\"\n",
              "            style=\"display:none;\">\n",
              "\n",
              "  <svg xmlns=\"http://www.w3.org/2000/svg\" height=\"24px\" viewBox=\"0 -960 960 960\">\n",
              "    <path d=\"M120-120v-720h720v720H120Zm60-500h600v-160H180v160Zm220 220h160v-160H400v160Zm0 220h160v-160H400v160ZM180-400h160v-160H180v160Zm440 0h160v-160H620v160ZM180-180h160v-160H180v160Zm440 0h160v-160H620v160Z\"/>\n",
              "  </svg>\n",
              "    </button>\n",
              "\n",
              "  <style>\n",
              "    .colab-df-container {\n",
              "      display:flex;\n",
              "      gap: 12px;\n",
              "    }\n",
              "\n",
              "    .colab-df-convert {\n",
              "      background-color: #E8F0FE;\n",
              "      border: none;\n",
              "      border-radius: 50%;\n",
              "      cursor: pointer;\n",
              "      display: none;\n",
              "      fill: #1967D2;\n",
              "      height: 32px;\n",
              "      padding: 0 0 0 0;\n",
              "      width: 32px;\n",
              "    }\n",
              "\n",
              "    .colab-df-convert:hover {\n",
              "      background-color: #E2EBFA;\n",
              "      box-shadow: 0px 1px 2px rgba(60, 64, 67, 0.3), 0px 1px 3px 1px rgba(60, 64, 67, 0.15);\n",
              "      fill: #174EA6;\n",
              "    }\n",
              "\n",
              "    .colab-df-buttons div {\n",
              "      margin-bottom: 4px;\n",
              "    }\n",
              "\n",
              "    [theme=dark] .colab-df-convert {\n",
              "      background-color: #3B4455;\n",
              "      fill: #D2E3FC;\n",
              "    }\n",
              "\n",
              "    [theme=dark] .colab-df-convert:hover {\n",
              "      background-color: #434B5C;\n",
              "      box-shadow: 0px 1px 3px 1px rgba(0, 0, 0, 0.15);\n",
              "      filter: drop-shadow(0px 1px 2px rgba(0, 0, 0, 0.3));\n",
              "      fill: #FFFFFF;\n",
              "    }\n",
              "  </style>\n",
              "\n",
              "    <script>\n",
              "      const buttonEl =\n",
              "        document.querySelector('#df-1e601f44-3af2-48b9-97a0-56a680dbf886 button.colab-df-convert');\n",
              "      buttonEl.style.display =\n",
              "        google.colab.kernel.accessAllowed ? 'block' : 'none';\n",
              "\n",
              "      async function convertToInteractive(key) {\n",
              "        const element = document.querySelector('#df-1e601f44-3af2-48b9-97a0-56a680dbf886');\n",
              "        const dataTable =\n",
              "          await google.colab.kernel.invokeFunction('convertToInteractive',\n",
              "                                                    [key], {});\n",
              "        if (!dataTable) return;\n",
              "\n",
              "        const docLinkHtml = 'Like what you see? Visit the ' +\n",
              "          '<a target=\"_blank\" href=https://colab.research.google.com/notebooks/data_table.ipynb>data table notebook</a>'\n",
              "          + ' to learn more about interactive tables.';\n",
              "        element.innerHTML = '';\n",
              "        dataTable['output_type'] = 'display_data';\n",
              "        await google.colab.output.renderOutput(dataTable, element);\n",
              "        const docLink = document.createElement('div');\n",
              "        docLink.innerHTML = docLinkHtml;\n",
              "        element.appendChild(docLink);\n",
              "      }\n",
              "    </script>\n",
              "  </div>\n",
              "\n",
              "\n",
              "<div id=\"df-e6b24e88-f2c5-4159-8a50-74ba2c9e335f\">\n",
              "  <button class=\"colab-df-quickchart\" onclick=\"quickchart('df-e6b24e88-f2c5-4159-8a50-74ba2c9e335f')\"\n",
              "            title=\"Suggest charts\"\n",
              "            style=\"display:none;\">\n",
              "\n",
              "<svg xmlns=\"http://www.w3.org/2000/svg\" height=\"24px\"viewBox=\"0 0 24 24\"\n",
              "     width=\"24px\">\n",
              "    <g>\n",
              "        <path d=\"M19 3H5c-1.1 0-2 .9-2 2v14c0 1.1.9 2 2 2h14c1.1 0 2-.9 2-2V5c0-1.1-.9-2-2-2zM9 17H7v-7h2v7zm4 0h-2V7h2v10zm4 0h-2v-4h2v4z\"/>\n",
              "    </g>\n",
              "</svg>\n",
              "  </button>\n",
              "\n",
              "<style>\n",
              "  .colab-df-quickchart {\n",
              "      --bg-color: #E8F0FE;\n",
              "      --fill-color: #1967D2;\n",
              "      --hover-bg-color: #E2EBFA;\n",
              "      --hover-fill-color: #174EA6;\n",
              "      --disabled-fill-color: #AAA;\n",
              "      --disabled-bg-color: #DDD;\n",
              "  }\n",
              "\n",
              "  [theme=dark] .colab-df-quickchart {\n",
              "      --bg-color: #3B4455;\n",
              "      --fill-color: #D2E3FC;\n",
              "      --hover-bg-color: #434B5C;\n",
              "      --hover-fill-color: #FFFFFF;\n",
              "      --disabled-bg-color: #3B4455;\n",
              "      --disabled-fill-color: #666;\n",
              "  }\n",
              "\n",
              "  .colab-df-quickchart {\n",
              "    background-color: var(--bg-color);\n",
              "    border: none;\n",
              "    border-radius: 50%;\n",
              "    cursor: pointer;\n",
              "    display: none;\n",
              "    fill: var(--fill-color);\n",
              "    height: 32px;\n",
              "    padding: 0;\n",
              "    width: 32px;\n",
              "  }\n",
              "\n",
              "  .colab-df-quickchart:hover {\n",
              "    background-color: var(--hover-bg-color);\n",
              "    box-shadow: 0 1px 2px rgba(60, 64, 67, 0.3), 0 1px 3px 1px rgba(60, 64, 67, 0.15);\n",
              "    fill: var(--button-hover-fill-color);\n",
              "  }\n",
              "\n",
              "  .colab-df-quickchart-complete:disabled,\n",
              "  .colab-df-quickchart-complete:disabled:hover {\n",
              "    background-color: var(--disabled-bg-color);\n",
              "    fill: var(--disabled-fill-color);\n",
              "    box-shadow: none;\n",
              "  }\n",
              "\n",
              "  .colab-df-spinner {\n",
              "    border: 2px solid var(--fill-color);\n",
              "    border-color: transparent;\n",
              "    border-bottom-color: var(--fill-color);\n",
              "    animation:\n",
              "      spin 1s steps(1) infinite;\n",
              "  }\n",
              "\n",
              "  @keyframes spin {\n",
              "    0% {\n",
              "      border-color: transparent;\n",
              "      border-bottom-color: var(--fill-color);\n",
              "      border-left-color: var(--fill-color);\n",
              "    }\n",
              "    20% {\n",
              "      border-color: transparent;\n",
              "      border-left-color: var(--fill-color);\n",
              "      border-top-color: var(--fill-color);\n",
              "    }\n",
              "    30% {\n",
              "      border-color: transparent;\n",
              "      border-left-color: var(--fill-color);\n",
              "      border-top-color: var(--fill-color);\n",
              "      border-right-color: var(--fill-color);\n",
              "    }\n",
              "    40% {\n",
              "      border-color: transparent;\n",
              "      border-right-color: var(--fill-color);\n",
              "      border-top-color: var(--fill-color);\n",
              "    }\n",
              "    60% {\n",
              "      border-color: transparent;\n",
              "      border-right-color: var(--fill-color);\n",
              "    }\n",
              "    80% {\n",
              "      border-color: transparent;\n",
              "      border-right-color: var(--fill-color);\n",
              "      border-bottom-color: var(--fill-color);\n",
              "    }\n",
              "    90% {\n",
              "      border-color: transparent;\n",
              "      border-bottom-color: var(--fill-color);\n",
              "    }\n",
              "  }\n",
              "</style>\n",
              "\n",
              "  <script>\n",
              "    async function quickchart(key) {\n",
              "      const quickchartButtonEl =\n",
              "        document.querySelector('#' + key + ' button');\n",
              "      quickchartButtonEl.disabled = true;  // To prevent multiple clicks.\n",
              "      quickchartButtonEl.classList.add('colab-df-spinner');\n",
              "      try {\n",
              "        const charts = await google.colab.kernel.invokeFunction(\n",
              "            'suggestCharts', [key], {});\n",
              "      } catch (error) {\n",
              "        console.error('Error during call to suggestCharts:', error);\n",
              "      }\n",
              "      quickchartButtonEl.classList.remove('colab-df-spinner');\n",
              "      quickchartButtonEl.classList.add('colab-df-quickchart-complete');\n",
              "    }\n",
              "    (() => {\n",
              "      let quickchartButtonEl =\n",
              "        document.querySelector('#df-e6b24e88-f2c5-4159-8a50-74ba2c9e335f button');\n",
              "      quickchartButtonEl.style.display =\n",
              "        google.colab.kernel.accessAllowed ? 'block' : 'none';\n",
              "    })();\n",
              "  </script>\n",
              "</div>\n",
              "    </div>\n",
              "  </div>\n"
            ]
          },
          "metadata": {},
          "execution_count": 6
        }
      ],
      "source": [
        "datasets[\"ae_com\"].head()"
      ]
    },
    {
      "cell_type": "code",
      "execution_count": 7,
      "id": "6a8a6a23",
      "metadata": {
        "id": "6a8a6a23",
        "outputId": "4030bb63-9295-4a27-e46d-80cbc587746d",
        "colab": {
          "base_uri": "https://localhost:8080/",
          "height": 327
        }
      },
      "outputs": [
        {
          "output_type": "execute_result",
          "data": {
            "text/plain": [
              "                                        product_name      mrp    price  \\\n",
              "0  Calvin Klein Women's Sheer Marquisette Demi Un...  $36.00   $32.40    \n",
              "1                   Wacoal Embrace Lace Bikini Panty  $27.00   $27.00    \n",
              "2     Wacoal Women's Slimline Seamless Minimizer Bra  $65.00   $65.00    \n",
              "3     Hanky Panky Womens Signature Lace Retro V-Kini  $36.00   $36.00    \n",
              "4            Wacoal Women's Red Carpet Strapless Bra  $65.00   $65.00    \n",
              "\n",
              "                                             pdp_url    brand_name  \\\n",
              "0  https://www.amazon.com/-/dp/B01NAVD98J?th=1&psc=1  Calvin-Klein   \n",
              "1  https://www.amazon.com/-/dp/B0011YQFNK?th=1&psc=1        Wacoal   \n",
              "2  https://www.amazon.com/-/dp/B000T3606Q?th=1&psc=1        Wacoal   \n",
              "3  https://www.amazon.com/-/dp/B003Y6AX0Y?th=1&psc=1   Hanky-Panky   \n",
              "4  https://www.amazon.com/-/dp/B01CEBGQA0?th=1&psc=1        Wacoal   \n",
              "\n",
              "  product_category   retailer  \\\n",
              "0             Bras  Amazon US   \n",
              "1          Panties  Amazon US   \n",
              "2             Bras  Amazon US   \n",
              "3          Panties  Amazon US   \n",
              "4             Bras  Amazon US   \n",
              "\n",
              "                                         description  rating  review_count  \\\n",
              "0  An unlined demi cup bra featuring sheer, sexy ...     4.5            47   \n",
              "1  Embrace lace bikini offers great fit and match...     4.4            91   \n",
              "2  Seamless underwire minimizer bra gives great s...     4.3           298   \n",
              "3  All-day comfort describes this figure-flatteri...     4.4            46   \n",
              "4  Red Carpet full figure strapless fits great, s...     4.4           747   \n",
              "\n",
              "                                    style_attributes  \\\n",
              "0  [ 72% Nylon, 28% Elastane , Imported , hook an...   \n",
              "1  [ 100% Nylon , Imported , Hand Wash , 1.2\" hig...   \n",
              "2  [ Cups: 100% Polyester; Back: 71% Nylon, 29% S...   \n",
              "3  [ Made in USA , All-day comfort describes this...   \n",
              "4  [ 91% Nylon, 9% Spandex , Imported , hook and ...   \n",
              "\n",
              "                                         total_sizes  \\\n",
              "0  30B , 30C , 30D , 30DD , 32A , 32B , 32C , 32D...   \n",
              "1                   Small , Medium , Large , X-Large   \n",
              "2  32DD , 32DDD , 34C , 34D , 34DD , 34DDD , 36C ...   \n",
              "3                   Small , Medium , Large , X-Large   \n",
              "4  30D , 30DD , 30DDD , 30G , 32C , 32D , 32DD , ...   \n",
              "\n",
              "                                      available_size  color  \n",
              "0  30B , 30C , 30D , 30DD , 32B , 32C , 32D , 32D...   Bare  \n",
              "1                           Small , Medium , X-Large  Large  \n",
              "2  32DD , 32DDD , 34C , 34D , 34DD , 34DDD , 36C ...  Black  \n",
              "3                           Small , Medium , X-Large  Large  \n",
              "4  30D , 30DD , 30DDD , 30G , 32C , 32D , 32DD , ...  Pecan  "
            ],
            "text/html": [
              "\n",
              "  <div id=\"df-80a092b7-8293-4279-a7e3-2ab30f6f7f37\" class=\"colab-df-container\">\n",
              "    <div>\n",
              "<style scoped>\n",
              "    .dataframe tbody tr th:only-of-type {\n",
              "        vertical-align: middle;\n",
              "    }\n",
              "\n",
              "    .dataframe tbody tr th {\n",
              "        vertical-align: top;\n",
              "    }\n",
              "\n",
              "    .dataframe thead th {\n",
              "        text-align: right;\n",
              "    }\n",
              "</style>\n",
              "<table border=\"1\" class=\"dataframe\">\n",
              "  <thead>\n",
              "    <tr style=\"text-align: right;\">\n",
              "      <th></th>\n",
              "      <th>product_name</th>\n",
              "      <th>mrp</th>\n",
              "      <th>price</th>\n",
              "      <th>pdp_url</th>\n",
              "      <th>brand_name</th>\n",
              "      <th>product_category</th>\n",
              "      <th>retailer</th>\n",
              "      <th>description</th>\n",
              "      <th>rating</th>\n",
              "      <th>review_count</th>\n",
              "      <th>style_attributes</th>\n",
              "      <th>total_sizes</th>\n",
              "      <th>available_size</th>\n",
              "      <th>color</th>\n",
              "    </tr>\n",
              "  </thead>\n",
              "  <tbody>\n",
              "    <tr>\n",
              "      <th>0</th>\n",
              "      <td>Calvin Klein Women's Sheer Marquisette Demi Un...</td>\n",
              "      <td>$36.00</td>\n",
              "      <td>$32.40</td>\n",
              "      <td>https://www.amazon.com/-/dp/B01NAVD98J?th=1&amp;psc=1</td>\n",
              "      <td>Calvin-Klein</td>\n",
              "      <td>Bras</td>\n",
              "      <td>Amazon US</td>\n",
              "      <td>An unlined demi cup bra featuring sheer, sexy ...</td>\n",
              "      <td>4.5</td>\n",
              "      <td>47</td>\n",
              "      <td>[ 72% Nylon, 28% Elastane , Imported , hook an...</td>\n",
              "      <td>30B , 30C , 30D , 30DD , 32A , 32B , 32C , 32D...</td>\n",
              "      <td>30B , 30C , 30D , 30DD , 32B , 32C , 32D , 32D...</td>\n",
              "      <td>Bare</td>\n",
              "    </tr>\n",
              "    <tr>\n",
              "      <th>1</th>\n",
              "      <td>Wacoal Embrace Lace Bikini Panty</td>\n",
              "      <td>$27.00</td>\n",
              "      <td>$27.00</td>\n",
              "      <td>https://www.amazon.com/-/dp/B0011YQFNK?th=1&amp;psc=1</td>\n",
              "      <td>Wacoal</td>\n",
              "      <td>Panties</td>\n",
              "      <td>Amazon US</td>\n",
              "      <td>Embrace lace bikini offers great fit and match...</td>\n",
              "      <td>4.4</td>\n",
              "      <td>91</td>\n",
              "      <td>[ 100% Nylon , Imported , Hand Wash , 1.2\" hig...</td>\n",
              "      <td>Small , Medium , Large , X-Large</td>\n",
              "      <td>Small , Medium , X-Large</td>\n",
              "      <td>Large</td>\n",
              "    </tr>\n",
              "    <tr>\n",
              "      <th>2</th>\n",
              "      <td>Wacoal Women's Slimline Seamless Minimizer Bra</td>\n",
              "      <td>$65.00</td>\n",
              "      <td>$65.00</td>\n",
              "      <td>https://www.amazon.com/-/dp/B000T3606Q?th=1&amp;psc=1</td>\n",
              "      <td>Wacoal</td>\n",
              "      <td>Bras</td>\n",
              "      <td>Amazon US</td>\n",
              "      <td>Seamless underwire minimizer bra gives great s...</td>\n",
              "      <td>4.3</td>\n",
              "      <td>298</td>\n",
              "      <td>[ Cups: 100% Polyester; Back: 71% Nylon, 29% S...</td>\n",
              "      <td>32DD , 32DDD , 34C , 34D , 34DD , 34DDD , 36C ...</td>\n",
              "      <td>32DD , 32DDD , 34C , 34D , 34DD , 34DDD , 36C ...</td>\n",
              "      <td>Black</td>\n",
              "    </tr>\n",
              "    <tr>\n",
              "      <th>3</th>\n",
              "      <td>Hanky Panky Womens Signature Lace Retro V-Kini</td>\n",
              "      <td>$36.00</td>\n",
              "      <td>$36.00</td>\n",
              "      <td>https://www.amazon.com/-/dp/B003Y6AX0Y?th=1&amp;psc=1</td>\n",
              "      <td>Hanky-Panky</td>\n",
              "      <td>Panties</td>\n",
              "      <td>Amazon US</td>\n",
              "      <td>All-day comfort describes this figure-flatteri...</td>\n",
              "      <td>4.4</td>\n",
              "      <td>46</td>\n",
              "      <td>[ Made in USA , All-day comfort describes this...</td>\n",
              "      <td>Small , Medium , Large , X-Large</td>\n",
              "      <td>Small , Medium , X-Large</td>\n",
              "      <td>Large</td>\n",
              "    </tr>\n",
              "    <tr>\n",
              "      <th>4</th>\n",
              "      <td>Wacoal Women's Red Carpet Strapless Bra</td>\n",
              "      <td>$65.00</td>\n",
              "      <td>$65.00</td>\n",
              "      <td>https://www.amazon.com/-/dp/B01CEBGQA0?th=1&amp;psc=1</td>\n",
              "      <td>Wacoal</td>\n",
              "      <td>Bras</td>\n",
              "      <td>Amazon US</td>\n",
              "      <td>Red Carpet full figure strapless fits great, s...</td>\n",
              "      <td>4.4</td>\n",
              "      <td>747</td>\n",
              "      <td>[ 91% Nylon, 9% Spandex , Imported , hook and ...</td>\n",
              "      <td>30D , 30DD , 30DDD , 30G , 32C , 32D , 32DD , ...</td>\n",
              "      <td>30D , 30DD , 30DDD , 30G , 32C , 32D , 32DD , ...</td>\n",
              "      <td>Pecan</td>\n",
              "    </tr>\n",
              "  </tbody>\n",
              "</table>\n",
              "</div>\n",
              "    <div class=\"colab-df-buttons\">\n",
              "\n",
              "  <div class=\"colab-df-container\">\n",
              "    <button class=\"colab-df-convert\" onclick=\"convertToInteractive('df-80a092b7-8293-4279-a7e3-2ab30f6f7f37')\"\n",
              "            title=\"Convert this dataframe to an interactive table.\"\n",
              "            style=\"display:none;\">\n",
              "\n",
              "  <svg xmlns=\"http://www.w3.org/2000/svg\" height=\"24px\" viewBox=\"0 -960 960 960\">\n",
              "    <path d=\"M120-120v-720h720v720H120Zm60-500h600v-160H180v160Zm220 220h160v-160H400v160Zm0 220h160v-160H400v160ZM180-400h160v-160H180v160Zm440 0h160v-160H620v160ZM180-180h160v-160H180v160Zm440 0h160v-160H620v160Z\"/>\n",
              "  </svg>\n",
              "    </button>\n",
              "\n",
              "  <style>\n",
              "    .colab-df-container {\n",
              "      display:flex;\n",
              "      gap: 12px;\n",
              "    }\n",
              "\n",
              "    .colab-df-convert {\n",
              "      background-color: #E8F0FE;\n",
              "      border: none;\n",
              "      border-radius: 50%;\n",
              "      cursor: pointer;\n",
              "      display: none;\n",
              "      fill: #1967D2;\n",
              "      height: 32px;\n",
              "      padding: 0 0 0 0;\n",
              "      width: 32px;\n",
              "    }\n",
              "\n",
              "    .colab-df-convert:hover {\n",
              "      background-color: #E2EBFA;\n",
              "      box-shadow: 0px 1px 2px rgba(60, 64, 67, 0.3), 0px 1px 3px 1px rgba(60, 64, 67, 0.15);\n",
              "      fill: #174EA6;\n",
              "    }\n",
              "\n",
              "    .colab-df-buttons div {\n",
              "      margin-bottom: 4px;\n",
              "    }\n",
              "\n",
              "    [theme=dark] .colab-df-convert {\n",
              "      background-color: #3B4455;\n",
              "      fill: #D2E3FC;\n",
              "    }\n",
              "\n",
              "    [theme=dark] .colab-df-convert:hover {\n",
              "      background-color: #434B5C;\n",
              "      box-shadow: 0px 1px 3px 1px rgba(0, 0, 0, 0.15);\n",
              "      filter: drop-shadow(0px 1px 2px rgba(0, 0, 0, 0.3));\n",
              "      fill: #FFFFFF;\n",
              "    }\n",
              "  </style>\n",
              "\n",
              "    <script>\n",
              "      const buttonEl =\n",
              "        document.querySelector('#df-80a092b7-8293-4279-a7e3-2ab30f6f7f37 button.colab-df-convert');\n",
              "      buttonEl.style.display =\n",
              "        google.colab.kernel.accessAllowed ? 'block' : 'none';\n",
              "\n",
              "      async function convertToInteractive(key) {\n",
              "        const element = document.querySelector('#df-80a092b7-8293-4279-a7e3-2ab30f6f7f37');\n",
              "        const dataTable =\n",
              "          await google.colab.kernel.invokeFunction('convertToInteractive',\n",
              "                                                    [key], {});\n",
              "        if (!dataTable) return;\n",
              "\n",
              "        const docLinkHtml = 'Like what you see? Visit the ' +\n",
              "          '<a target=\"_blank\" href=https://colab.research.google.com/notebooks/data_table.ipynb>data table notebook</a>'\n",
              "          + ' to learn more about interactive tables.';\n",
              "        element.innerHTML = '';\n",
              "        dataTable['output_type'] = 'display_data';\n",
              "        await google.colab.output.renderOutput(dataTable, element);\n",
              "        const docLink = document.createElement('div');\n",
              "        docLink.innerHTML = docLinkHtml;\n",
              "        element.appendChild(docLink);\n",
              "      }\n",
              "    </script>\n",
              "  </div>\n",
              "\n",
              "\n",
              "<div id=\"df-c7f33adb-86cd-4e65-9908-ba18eb843f83\">\n",
              "  <button class=\"colab-df-quickchart\" onclick=\"quickchart('df-c7f33adb-86cd-4e65-9908-ba18eb843f83')\"\n",
              "            title=\"Suggest charts\"\n",
              "            style=\"display:none;\">\n",
              "\n",
              "<svg xmlns=\"http://www.w3.org/2000/svg\" height=\"24px\"viewBox=\"0 0 24 24\"\n",
              "     width=\"24px\">\n",
              "    <g>\n",
              "        <path d=\"M19 3H5c-1.1 0-2 .9-2 2v14c0 1.1.9 2 2 2h14c1.1 0 2-.9 2-2V5c0-1.1-.9-2-2-2zM9 17H7v-7h2v7zm4 0h-2V7h2v10zm4 0h-2v-4h2v4z\"/>\n",
              "    </g>\n",
              "</svg>\n",
              "  </button>\n",
              "\n",
              "<style>\n",
              "  .colab-df-quickchart {\n",
              "      --bg-color: #E8F0FE;\n",
              "      --fill-color: #1967D2;\n",
              "      --hover-bg-color: #E2EBFA;\n",
              "      --hover-fill-color: #174EA6;\n",
              "      --disabled-fill-color: #AAA;\n",
              "      --disabled-bg-color: #DDD;\n",
              "  }\n",
              "\n",
              "  [theme=dark] .colab-df-quickchart {\n",
              "      --bg-color: #3B4455;\n",
              "      --fill-color: #D2E3FC;\n",
              "      --hover-bg-color: #434B5C;\n",
              "      --hover-fill-color: #FFFFFF;\n",
              "      --disabled-bg-color: #3B4455;\n",
              "      --disabled-fill-color: #666;\n",
              "  }\n",
              "\n",
              "  .colab-df-quickchart {\n",
              "    background-color: var(--bg-color);\n",
              "    border: none;\n",
              "    border-radius: 50%;\n",
              "    cursor: pointer;\n",
              "    display: none;\n",
              "    fill: var(--fill-color);\n",
              "    height: 32px;\n",
              "    padding: 0;\n",
              "    width: 32px;\n",
              "  }\n",
              "\n",
              "  .colab-df-quickchart:hover {\n",
              "    background-color: var(--hover-bg-color);\n",
              "    box-shadow: 0 1px 2px rgba(60, 64, 67, 0.3), 0 1px 3px 1px rgba(60, 64, 67, 0.15);\n",
              "    fill: var(--button-hover-fill-color);\n",
              "  }\n",
              "\n",
              "  .colab-df-quickchart-complete:disabled,\n",
              "  .colab-df-quickchart-complete:disabled:hover {\n",
              "    background-color: var(--disabled-bg-color);\n",
              "    fill: var(--disabled-fill-color);\n",
              "    box-shadow: none;\n",
              "  }\n",
              "\n",
              "  .colab-df-spinner {\n",
              "    border: 2px solid var(--fill-color);\n",
              "    border-color: transparent;\n",
              "    border-bottom-color: var(--fill-color);\n",
              "    animation:\n",
              "      spin 1s steps(1) infinite;\n",
              "  }\n",
              "\n",
              "  @keyframes spin {\n",
              "    0% {\n",
              "      border-color: transparent;\n",
              "      border-bottom-color: var(--fill-color);\n",
              "      border-left-color: var(--fill-color);\n",
              "    }\n",
              "    20% {\n",
              "      border-color: transparent;\n",
              "      border-left-color: var(--fill-color);\n",
              "      border-top-color: var(--fill-color);\n",
              "    }\n",
              "    30% {\n",
              "      border-color: transparent;\n",
              "      border-left-color: var(--fill-color);\n",
              "      border-top-color: var(--fill-color);\n",
              "      border-right-color: var(--fill-color);\n",
              "    }\n",
              "    40% {\n",
              "      border-color: transparent;\n",
              "      border-right-color: var(--fill-color);\n",
              "      border-top-color: var(--fill-color);\n",
              "    }\n",
              "    60% {\n",
              "      border-color: transparent;\n",
              "      border-right-color: var(--fill-color);\n",
              "    }\n",
              "    80% {\n",
              "      border-color: transparent;\n",
              "      border-right-color: var(--fill-color);\n",
              "      border-bottom-color: var(--fill-color);\n",
              "    }\n",
              "    90% {\n",
              "      border-color: transparent;\n",
              "      border-bottom-color: var(--fill-color);\n",
              "    }\n",
              "  }\n",
              "</style>\n",
              "\n",
              "  <script>\n",
              "    async function quickchart(key) {\n",
              "      const quickchartButtonEl =\n",
              "        document.querySelector('#' + key + ' button');\n",
              "      quickchartButtonEl.disabled = true;  // To prevent multiple clicks.\n",
              "      quickchartButtonEl.classList.add('colab-df-spinner');\n",
              "      try {\n",
              "        const charts = await google.colab.kernel.invokeFunction(\n",
              "            'suggestCharts', [key], {});\n",
              "      } catch (error) {\n",
              "        console.error('Error during call to suggestCharts:', error);\n",
              "      }\n",
              "      quickchartButtonEl.classList.remove('colab-df-spinner');\n",
              "      quickchartButtonEl.classList.add('colab-df-quickchart-complete');\n",
              "    }\n",
              "    (() => {\n",
              "      let quickchartButtonEl =\n",
              "        document.querySelector('#df-c7f33adb-86cd-4e65-9908-ba18eb843f83 button');\n",
              "      quickchartButtonEl.style.display =\n",
              "        google.colab.kernel.accessAllowed ? 'block' : 'none';\n",
              "    })();\n",
              "  </script>\n",
              "</div>\n",
              "    </div>\n",
              "  </div>\n"
            ]
          },
          "metadata": {},
          "execution_count": 7
        }
      ],
      "source": [
        "datasets[\"amazon_com\"].head()"
      ]
    },
    {
      "cell_type": "markdown",
      "id": "4be923cf",
      "metadata": {
        "id": "4be923cf"
      },
      "source": [
        "### Joining all the datasets into one"
      ]
    },
    {
      "cell_type": "code",
      "execution_count": 8,
      "id": "571aa9fa",
      "metadata": {
        "id": "571aa9fa"
      },
      "outputs": [],
      "source": [
        "df = pd.concat(datasets.values())"
      ]
    },
    {
      "cell_type": "code",
      "execution_count": 9,
      "id": "a68adc54",
      "metadata": {
        "id": "a68adc54",
        "outputId": "344af3c7-c8a9-48dc-b345-8cd13f6683e6",
        "colab": {
          "base_uri": "https://localhost:8080/"
        }
      },
      "outputs": [
        {
          "output_type": "execute_result",
          "data": {
            "text/plain": [
              "(613143, 14)"
            ]
          },
          "metadata": {},
          "execution_count": 9
        }
      ],
      "source": [
        "df.shape"
      ]
    },
    {
      "cell_type": "code",
      "source": [
        "print(df['price'])"
      ],
      "metadata": {
        "id": "u0SEi5pyLI73",
        "outputId": "23a38699-94af-45b3-9422-eabc781076f2",
        "colab": {
          "base_uri": "https://localhost:8080/"
        }
      },
      "id": "u0SEi5pyLI73",
      "execution_count": 10,
      "outputs": [
        {
          "output_type": "stream",
          "name": "stdout",
          "text": [
            "0         12.50 USD\n",
            "1         12.50 USD\n",
            "2         12.50 USD\n",
            "3         12.50 USD\n",
            "4         12.50 USD\n",
            "            ...    \n",
            "453381      $48.00 \n",
            "453382      $48.00 \n",
            "453383      $48.00 \n",
            "453384      $48.00 \n",
            "453385      $48.00 \n",
            "Name: price, Length: 613143, dtype: object\n"
          ]
        }
      ]
    },
    {
      "cell_type": "markdown",
      "id": "3cd9cca0",
      "metadata": {
        "id": "3cd9cca0"
      },
      "source": [
        "# Calculating statistics on the dataset"
      ]
    },
    {
      "cell_type": "markdown",
      "id": "78f76a57",
      "metadata": {
        "id": "78f76a57"
      },
      "source": [
        "## Unifying Victoria's Secret"
      ]
    },
    {
      "cell_type": "code",
      "execution_count": null,
      "id": "8741c830",
      "metadata": {
        "id": "8741c830"
      },
      "outputs": [],
      "source": [
        "\n"
      ]
    },
    {
      "cell_type": "code",
      "source": [
        "print(df['brand_name'].unique())"
      ],
      "metadata": {
        "id": "1tv6ayY69LKk",
        "outputId": "5071d0f0-399d-430c-8938-2b2f504e7f99",
        "colab": {
          "base_uri": "https://localhost:8080/"
        }
      },
      "id": "1tv6ayY69LKk",
      "execution_count": 11,
      "outputs": [
        {
          "output_type": "stream",
          "name": "stdout",
          "text": [
            "['AERIE' 'AEO' 'Calvin-Klein' 'Wacoal' 'Hanky-Panky' 'b-temptd'\n",
            " 'Victorias-Secret' 's'\n",
            " 'ref=w_bl_sl_l_ap_ap_web_2586685011?ie=UTF8&node=2586685011&field-lbr_brands_browse-bin=Calvin+Klein'\n",
            " 'ref=w_bl_sl_l_b_ap_web_2586451011?ie=UTF8&node=2586451011&field-lbr_brands_browse-bin=b.tempt%27d'\n",
            " 'Fila' 'Lucky-Brand'\n",
            " 'ref=w_bl_sl_l_b_ap_web_2603426011?ie=UTF8&node=2603426011&field-lbr_brands_browse-bin=Wacoal'\n",
            " 'Creative-Motion' 'Sexy-Hair' 'Nintendo' 'Compression-Comfort' 'WACOAL'\n",
            " 'Calvin Klein' 'HankyPanky' 'Hanky Panky' \"b.tempt'd by Wacoal\"\n",
            " 'Calvin Klein Modern Cotton' 'Vanity Fair' 'Calvin Klein Performance'\n",
            " \"b.tempt'd\" 'HANKY PANKY' \"B.TEMPT'D BY WACOAL\" 'CALVIN KLEIN'\n",
            " 'NORDSTROM LINGERIE' 'US TOPSHOP' \"Victoria's Secret\"\n",
            " \"Victoria's Secret Pink\"]\n"
          ]
        }
      ]
    },
    {
      "cell_type": "code",
      "source": [
        "\n",
        "def unify_victoria_secret(df):\n",
        "    \"\"\"\n",
        "    Cambia todas las marcas que contengan la palabra \"Victoria\" por \"victoria's secret\".\n",
        "    \"\"\"\n",
        "    df = df.copy()\n",
        "    new_string = \"victoria's secret\"\n",
        "    victorias= list(df.brand_name[df.brand_name.str.contains(r\"Victoria\")].unique())\n",
        "    def Victoria(x):\n",
        "        if x in victorias:\n",
        "            return new_string\n",
        "        else:\n",
        "            return x\n",
        "    df['brand_name']=df['brand_name'].map(Victoria)\n",
        "    return df"
      ],
      "metadata": {
        "id": "JGd2HMrf-ZwO"
      },
      "id": "JGd2HMrf-ZwO",
      "execution_count": 37,
      "outputs": []
    },
    {
      "cell_type": "code",
      "execution_count": 38,
      "id": "213058f1",
      "metadata": {
        "id": "213058f1"
      },
      "outputs": [],
      "source": [
        "df_unified = unify_victoria_secret(df)"
      ]
    },
    {
      "cell_type": "code",
      "source": [
        "print(df_unified['brand_name'].unique())"
      ],
      "metadata": {
        "id": "5mKKTDbP9lmu",
        "outputId": "d2fa9094-f83f-4be0-ac77-4204063cb335",
        "colab": {
          "base_uri": "https://localhost:8080/"
        }
      },
      "id": "5mKKTDbP9lmu",
      "execution_count": 39,
      "outputs": [
        {
          "output_type": "stream",
          "name": "stdout",
          "text": [
            "['AERIE' 'AEO' 'Calvin-Klein' 'Wacoal' 'Hanky-Panky' 'b-temptd'\n",
            " \"victoria's secret\" 's'\n",
            " 'ref=w_bl_sl_l_ap_ap_web_2586685011?ie=UTF8&node=2586685011&field-lbr_brands_browse-bin=Calvin+Klein'\n",
            " 'ref=w_bl_sl_l_b_ap_web_2586451011?ie=UTF8&node=2586451011&field-lbr_brands_browse-bin=b.tempt%27d'\n",
            " 'Fila' 'Lucky-Brand'\n",
            " 'ref=w_bl_sl_l_b_ap_web_2603426011?ie=UTF8&node=2603426011&field-lbr_brands_browse-bin=Wacoal'\n",
            " 'Creative-Motion' 'Sexy-Hair' 'Nintendo' 'Compression-Comfort' 'WACOAL'\n",
            " 'Calvin Klein' 'HankyPanky' 'Hanky Panky' \"b.tempt'd by Wacoal\"\n",
            " 'Calvin Klein Modern Cotton' 'Vanity Fair' 'Calvin Klein Performance'\n",
            " \"b.tempt'd\" 'HANKY PANKY' \"B.TEMPT'D BY WACOAL\" 'CALVIN KLEIN'\n",
            " 'NORDSTROM LINGERIE' 'US TOPSHOP']\n"
          ]
        }
      ]
    },
    {
      "cell_type": "code",
      "execution_count": 40,
      "id": "b14d2702",
      "metadata": {
        "id": "b14d2702",
        "outputId": "0143b9de-fe84-47a2-faef-bcee062cf2a1",
        "colab": {
          "base_uri": "https://localhost:8080/"
        }
      },
      "outputs": [
        {
          "output_type": "stream",
          "name": "stdout",
          "text": [
            "453453\n"
          ]
        }
      ],
      "source": [
        "answer_victoria_secret =df_unified[df_unified[\"brand_name\"] == \"victoria's secret\"].shape[0]\n",
        "print(answer_victoria_secret)"
      ]
    },
    {
      "cell_type": "markdown",
      "id": "408f98ed",
      "metadata": {
        "id": "408f98ed"
      },
      "source": [
        "## Cleaning up the price\n",
        "\n",
        "In this sectino we are going to transform the `price` column into a float column in USD dolars.\n",
        "\n",
        "For this, be careful of the different formats in the data.\n",
        "\n",
        "For simplicity, you might assume that all the prices are in USD dolars, regarding of the symbol of the currency used."
      ]
    },
    {
      "cell_type": "code",
      "source": [
        "import re\n",
        "\n",
        "def clean_price(df):\n",
        "    \"\"\"\n",
        "    In this function, we will transform the\n",
        "    `price` column into a column of floats.\n",
        "    In case a product has more than one price,\n",
        "    return the lowest one.\n",
        "    \"\"\"\n",
        "    def min_price(x):\n",
        "\n",
        "      prices = re.findall(r'\\d+\\.\\d+|\\d+', x)\n",
        "      prices = [float(price) for price in prices]\n",
        "      return min(prices) if prices else None\n",
        "\n",
        "    df['price']=df['price'].astype(str)\n",
        "    df['price']=df['price'].apply(min_price)\n",
        "    return df"
      ],
      "metadata": {
        "id": "SPO_xzLKM5YM"
      },
      "id": "SPO_xzLKM5YM",
      "execution_count": 41,
      "outputs": []
    },
    {
      "cell_type": "code",
      "execution_count": 42,
      "id": "52326aa7",
      "metadata": {
        "id": "52326aa7"
      },
      "outputs": [],
      "source": [
        "df_clean = clean_price(df_unified)"
      ]
    },
    {
      "cell_type": "code",
      "execution_count": 43,
      "id": "80738acc",
      "metadata": {
        "colab": {
          "base_uri": "https://localhost:8080/"
        },
        "id": "80738acc",
        "outputId": "0f285862-6224-477b-c631-b451df56faab"
      },
      "outputs": [
        {
          "output_type": "stream",
          "name": "stdout",
          "text": [
            "20191976.02\n"
          ]
        }
      ],
      "source": [
        "answer_unified_price_sum = df_clean[\"price\"].sum()\n",
        "print(answer_unified_price_sum)"
      ]
    },
    {
      "cell_type": "code",
      "execution_count": 47,
      "id": "ff4001de",
      "metadata": {
        "id": "ff4001de"
      },
      "outputs": [],
      "source": [
        "def low_high_product_mean(df):\n",
        "    \"\"\"\n",
        "    Finally, we will calculate `product_category` with the lowest and highest mean price\n",
        "    for the brand Victoria's Secret.\n",
        "    \"\"\"\n",
        "    result=df[df['brand_name']==\"victoria's secret\"][['product_category','price']].groupby('product_category').mean().reset_index().sort_values(by='price')\n",
        "    lowest=float(result.head(1)['price'])\n",
        "    highest=float(result.tail(1)['price'])\n",
        "    return lowest,highest\n"
      ]
    },
    {
      "cell_type": "code",
      "execution_count": 48,
      "id": "b1be9512",
      "metadata": {
        "id": "b1be9512",
        "outputId": "fd411ddb-fc1a-4ba7-fd4f-7e0d3c232fa3",
        "colab": {
          "base_uri": "https://localhost:8080/"
        }
      },
      "outputs": [
        {
          "output_type": "stream",
          "name": "stdout",
          "text": [
            "highest_mean 98.0\n"
          ]
        }
      ],
      "source": [
        "lowest_mean, highest_mean = low_high_product_mean(df_clean)\n",
        "assert np.allclose(lowest_mean, 3.6203030303030)\n",
        "print(\"highest_mean\", highest_mean)"
      ]
    },
    {
      "cell_type": "code",
      "execution_count": null,
      "id": "604202c9",
      "metadata": {
        "id": "604202c9"
      },
      "outputs": [],
      "source": []
    },
    {
      "cell_type": "code",
      "execution_count": 49,
      "id": "3fd6273f",
      "metadata": {
        "id": "3fd6273f",
        "outputId": "1bfccabb-09aa-4ef2-877e-0b2ddb4d04a4",
        "colab": {
          "base_uri": "https://localhost:8080/"
        }
      },
      "outputs": [
        {
          "output_type": "stream",
          "name": "stdout",
          "text": [
            "|                    Task Name                     |       Status       |\n",
            "|--------------------------------------------------|--------------------|\n",
            "|--------------------------------------------------|--------------------|\n",
            "|                 victoria secret                  |      Correct       |\n",
            "|--------------------------------------------------|--------------------|\n",
            "|                price unification                 |      Correct       |\n",
            "|--------------------------------------------------|--------------------|\n",
            "|                   highest mean                   |      Correct       |\n",
            "|--------------------------------------------------|--------------------|\n"
          ]
        }
      ],
      "source": [
        "\n",
        "proposed_solution = {\n",
        "'attempt': {\n",
        "    'course_name': COURSE_NAME,\n",
        "    'exercise_name': EXERCISE_NAME,\n",
        "    'username': STUDENT_NAME,\n",
        "},\n",
        "'task_attempts': [\n",
        "         {\n",
        "            \"name\": \"victoria secret\",\n",
        "            \"answer\": str(answer_victoria_secret),\n",
        "         },\n",
        "         {\n",
        "            \"name\": \"price unification\",\n",
        "            \"answer\": str(answer_unified_price_sum),\n",
        "         },\n",
        "         {\n",
        "            \"name\": \"highest mean\",\n",
        "            \"answer\": str(highest_mean),\n",
        "         },\n",
        "]\n",
        "\n",
        "}\n",
        "check_solution(proposed_solution)\n"
      ]
    }
  ],
  "metadata": {
    "colab": {
      "provenance": []
    },
    "language_info": {
      "name": "python"
    },
    "kernelspec": {
      "name": "python3",
      "display_name": "Python 3"
    }
  },
  "nbformat": 4,
  "nbformat_minor": 5
}