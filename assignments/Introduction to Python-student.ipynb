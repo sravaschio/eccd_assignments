{
  "cells": [
    {
      "cell_type": "code",
      "execution_count": 3,
      "id": "61377702",
      "metadata": {
        "id": "61377702",
        "outputId": "951977d9-b63f-439f-ff21-c6b3544d0964",
        "colab": {
          "base_uri": "https://localhost:8080/"
        }
      },
      "outputs": [
        {
          "output_type": "stream",
          "name": "stdout",
          "text": [
            "\u001b[?25l     \u001b[90m━━━━━━━━━━━━━━━━━━━━━━━━━━━━━━━━━━━━━━━━\u001b[0m \u001b[32m0.0/223.9 kB\u001b[0m \u001b[31m?\u001b[0m eta \u001b[36m-:--:--\u001b[0m\r\u001b[2K     \u001b[91m━━━━━━━━━━━━━━━━━━━━━━━━━━━━━━━\u001b[0m\u001b[90m╺\u001b[0m\u001b[90m━━━━━━━━\u001b[0m \u001b[32m174.1/223.9 kB\u001b[0m \u001b[31m5.7 MB/s\u001b[0m eta \u001b[36m0:00:01\u001b[0m\r\u001b[2K     \u001b[90m━━━━━━━━━━━━━━━━━━━━━━━━━━━━━━━━━━━━━━━━\u001b[0m \u001b[32m223.9/223.9 kB\u001b[0m \u001b[31m5.3 MB/s\u001b[0m eta \u001b[36m0:00:00\u001b[0m\n",
            "\u001b[?25h"
          ]
        }
      ],
      "source": [
        "!pip install -q pygradus"
      ]
    },
    {
      "cell_type": "code",
      "execution_count": 1,
      "id": "300401f7",
      "metadata": {
        "id": "300401f7"
      },
      "outputs": [],
      "source": [
        "STUDENT_NAME = \"sebastian-ravaschio\"\n",
        "COURSE_NAME = \"eccd-oct23\"\n",
        "EXERCISE_NAME = \"python-intro\""
      ]
    },
    {
      "cell_type": "code",
      "execution_count": 4,
      "id": "48c29240",
      "metadata": {
        "id": "48c29240"
      },
      "outputs": [],
      "source": [
        "import numpy as np\n",
        "from pygradus import create_exercise, check_solution"
      ]
    },
    {
      "cell_type": "code",
      "execution_count": 14,
      "id": "be0d17f7",
      "metadata": {
        "id": "be0d17f7"
      },
      "outputs": [],
      "source": [
        "def remove_vowels(s: str) -> str:\n",
        "    \"\"\"\n",
        "    This function removes all vowels from strings\n",
        "    Example: \"hello\" -> \"hll\"\n",
        "    \"\"\"\n",
        "\n",
        "    # Write your code here\n",
        "\n",
        "    vowels= \"aeiouAEIOU\"\n",
        "    result = \"\"\n",
        "\n",
        "    for char in s:\n",
        "        if char not in vowels:\n",
        "            result += char\n",
        "\n",
        "    return result\n",
        "\n",
        "\n",
        "\n",
        "\n",
        "\n",
        "\n"
      ]
    },
    {
      "cell_type": "code",
      "execution_count": 15,
      "id": "07610fcf",
      "metadata": {
        "id": "07610fcf",
        "outputId": "be207cd7-5450-43b9-c2e7-9c694e52df6d",
        "colab": {
          "base_uri": "https://localhost:8080/"
        }
      },
      "outputs": [
        {
          "output_type": "stream",
          "name": "stdout",
          "text": [
            "st f n bn dí\n"
          ]
        }
      ],
      "source": [
        "assert remove_vowels(\"hola\") == \"hl\"\n",
        "answer_1  = remove_vowels(\"este fue un buen día\")\n",
        "print(answer_1)"
      ]
    },
    {
      "cell_type": "code",
      "execution_count": 22,
      "id": "264f19cb",
      "metadata": {
        "id": "264f19cb"
      },
      "outputs": [],
      "source": [
        "def sum_list_of_floats(a: list, b:list) -> list:\n",
        "    \"\"\"\n",
        "    Returns the coordinate wise sum of a and b.\n",
        "    \"\"\"\n",
        "\n",
        "    # Write your code here\n",
        "    result = [x + y for x, y in zip(a, b)]\n",
        "    return result"
      ]
    },
    {
      "cell_type": "code",
      "execution_count": 23,
      "id": "eb0a1fdc",
      "metadata": {
        "id": "eb0a1fdc",
        "outputId": "31412f7c-2523-4933-ca08-277da8711ae6",
        "colab": {
          "base_uri": "https://localhost:8080/"
        }
      },
      "outputs": [
        {
          "output_type": "stream",
          "name": "stdout",
          "text": [
            "[1, -1]\n"
          ]
        }
      ],
      "source": [
        "assert np.allclose(\n",
        "    sum_list_of_floats(\n",
        "        [1, 2, 3], [4, 5, -2.3]),\n",
        "    [5, 7, 0.7]\n",
        ")\n",
        "answer_2 = sum_list_of_floats([0, 0], [1, -1])\n",
        "print(answer_2)"
      ]
    },
    {
      "cell_type": "code",
      "execution_count": null,
      "id": "8e8288df",
      "metadata": {
        "id": "8e8288df"
      },
      "outputs": [],
      "source": []
    },
    {
      "cell_type": "code",
      "execution_count": 24,
      "id": "18d6099a",
      "metadata": {
        "id": "18d6099a",
        "outputId": "60b668c1-5ec9-4f94-b2e9-76fae306d2ac",
        "colab": {
          "base_uri": "https://localhost:8080/"
        }
      },
      "outputs": [
        {
          "output_type": "stream",
          "name": "stdout",
          "text": [
            "|                    Task Name                     |       Status       |\n",
            "|--------------------------------------------------|--------------------|\n",
            "|--------------------------------------------------|--------------------|\n",
            "|                  remove_vowels                   |     Incorrect      |\n",
            "|--------------------------------------------------|--------------------|\n",
            "|                    sum_floats                    |      Correct       |\n",
            "|--------------------------------------------------|--------------------|\n"
          ]
        }
      ],
      "source": [
        "\n",
        "proposed_solution = {\n",
        "'attempt': {\n",
        "    'course_name': \"eccd-oct23\",\n",
        "    'exercise_name': \"python-intro\",\n",
        "    'username': \"sebastian-ravaschio\",\n",
        "},\n",
        "'task_attempts': [\n",
        "         {\n",
        "             \"name\": \"remove_vowels\",\n",
        "             \"answer\": str(answer_1),\n",
        "         },\n",
        "                  {\n",
        "             \"name\": \"sum_floats\",\n",
        "             \"answer\": str(answer_2),\n",
        "         }\n",
        "]\n",
        "\n",
        "}\n",
        "check_solution(proposed_solution)\n",
        ""
      ]
    }
  ],
  "metadata": {
    "colab": {
      "provenance": []
    },
    "language_info": {
      "name": "python"
    },
    "kernelspec": {
      "name": "python3",
      "display_name": "Python 3"
    }
  },
  "nbformat": 4,
  "nbformat_minor": 5
}